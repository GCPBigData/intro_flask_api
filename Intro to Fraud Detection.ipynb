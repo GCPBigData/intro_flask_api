{
 "cells": [
  {
   "cell_type": "markdown",
   "metadata": {},
   "source": [
    "# 0 Set up and Data Import"
   ]
  },
  {
   "cell_type": "code",
   "execution_count": 1,
   "metadata": {},
   "outputs": [],
   "source": [
    "import pandas as pd\n",
    "import numpy as np"
   ]
  },
  {
   "cell_type": "code",
   "execution_count": 2,
   "metadata": {},
   "outputs": [],
   "source": [
    "id_raw_df   =pd.read_csv(\"train_identity.csv\")\n",
    "id_trans_df =pd.read_csv(\"train_transaction.csv\")"
   ]
  },
  {
   "cell_type": "code",
   "execution_count": 3,
   "metadata": {},
   "outputs": [],
   "source": [
    "train_full_df = pd.merge(id_trans_df, id_raw_df, on='TransactionID', how='left')"
   ]
  },
  {
   "cell_type": "code",
   "execution_count": 4,
   "metadata": {},
   "outputs": [],
   "source": [
    "from sklearn.model_selection import train_test_split"
   ]
  },
  {
   "cell_type": "code",
   "execution_count": 5,
   "metadata": {},
   "outputs": [],
   "source": [
    "columns_def=pd.DataFrame({\"na_count\":train_full_df.isnull().sum().sort_values(ascending=False)})"
   ]
  },
  {
   "cell_type": "code",
   "execution_count": 6,
   "metadata": {},
   "outputs": [],
   "source": [
    "#Create column of percent columns, #higher is worst\n",
    "columns_def[\"per\"]=columns_def[\"na_count\"]/len(train_full_df)"
   ]
  },
  {
   "cell_type": "code",
   "execution_count": 7,
   "metadata": {},
   "outputs": [],
   "source": [
    "limit=0.15 #only columns w/ less 15% will remain"
   ]
  },
  {
   "cell_type": "code",
   "execution_count": 8,
   "metadata": {},
   "outputs": [],
   "source": [
    "#Select final columns\n",
    "columns_final=columns_def[columns_def[\"per\"]<limit].index \n",
    "\n",
    "train_full_df=train_full_df[train_full_df.columns.intersection(columns_final)]"
   ]
  },
  {
   "cell_type": "markdown",
   "metadata": {},
   "source": [
    "## Dealing with Categorical Variables"
   ]
  },
  {
   "cell_type": "code",
   "execution_count": 9,
   "metadata": {},
   "outputs": [],
   "source": [
    "card6_dummy_df=pd.get_dummies(train_full_df[\"card6\"])"
   ]
  },
  {
   "cell_type": "code",
   "execution_count": 10,
   "metadata": {},
   "outputs": [],
   "source": [
    "train_full_df=pd.concat([train_full_df,card6_dummy_df],axis=1)"
   ]
  },
  {
   "cell_type": "code",
   "execution_count": 11,
   "metadata": {},
   "outputs": [],
   "source": [
    "train_full_df=train_full_df._get_numeric_data()\n",
    "\n",
    "train_full_df=train_full_df.dropna()"
   ]
  },
  {
   "cell_type": "code",
   "execution_count": 12,
   "metadata": {},
   "outputs": [],
   "source": [
    "x_full_df=train_full_df.drop([\"isFraud\"],axis=1)\n",
    "y_full_df=train_full_df[\"isFraud\"]\n"
   ]
  },
  {
   "cell_type": "code",
   "execution_count": 13,
   "metadata": {},
   "outputs": [],
   "source": [
    "X_train,X_test,y_train,y_test=train_test_split(x_full_df,y_full_df,test_size=0.50)"
   ]
  },
  {
   "cell_type": "code",
   "execution_count": 14,
   "metadata": {},
   "outputs": [],
   "source": [
    "X_test=X_test.reset_index(drop=True)\n",
    "y_test=y_test.reset_index(drop=True)"
   ]
  },
  {
   "cell_type": "markdown",
   "metadata": {},
   "source": [
    "# 03 Modeling"
   ]
  },
  {
   "cell_type": "code",
   "execution_count": 15,
   "metadata": {},
   "outputs": [],
   "source": [
    "from sklearn.linear_model import LogisticRegression  \n",
    "from sklearn.preprocessing import StandardScaler  \n",
    "\n",
    "from sklearn.metrics import confusion_matrix\n",
    "from sklearn.metrics import classification_report\n",
    "\n",
    "from sklearn.metrics import recall_score\n",
    "from sklearn.metrics import accuracy_score"
   ]
  },
  {
   "cell_type": "code",
   "execution_count": 16,
   "metadata": {},
   "outputs": [
    {
     "data": {
      "text/plain": [
       "LogisticRegression(C=1.0, class_weight=None, dual=False, fit_intercept=True,\n",
       "                   intercept_scaling=1, l1_ratio=None, max_iter=100,\n",
       "                   multi_class='warn', n_jobs=None, penalty='l2',\n",
       "                   random_state=None, solver='lbfgs', tol=0.0001, verbose=0,\n",
       "                   warm_start=False)"
      ]
     },
     "execution_count": 16,
     "metadata": {},
     "output_type": "execute_result"
    }
   ],
   "source": [
    "lr = LogisticRegression(solver='lbfgs')  \n",
    "lr.fit(X_train, y_train)  "
   ]
  },
  {
   "cell_type": "code",
   "execution_count": 17,
   "metadata": {},
   "outputs": [
    {
     "data": {
      "text/plain": [
       "0.9794483900324235"
      ]
     },
     "execution_count": 17,
     "metadata": {},
     "output_type": "execute_result"
    }
   ],
   "source": [
    "lr.score(X_test, y_test)"
   ]
  },
  {
   "cell_type": "code",
   "execution_count": 18,
   "metadata": {},
   "outputs": [],
   "source": [
    "y_pred=lr.predict(X_test)"
   ]
  },
  {
   "cell_type": "code",
   "execution_count": 19,
   "metadata": {},
   "outputs": [
    {
     "data": {
      "text/html": [
       "<div>\n",
       "<style scoped>\n",
       "    .dataframe tbody tr th:only-of-type {\n",
       "        vertical-align: middle;\n",
       "    }\n",
       "\n",
       "    .dataframe tbody tr th {\n",
       "        vertical-align: top;\n",
       "    }\n",
       "\n",
       "    .dataframe thead th {\n",
       "        text-align: right;\n",
       "    }\n",
       "</style>\n",
       "<table border=\"1\" class=\"dataframe\">\n",
       "  <thead>\n",
       "    <tr style=\"text-align: right;\">\n",
       "      <th>Predicted</th>\n",
       "      <th>0</th>\n",
       "      <th>1</th>\n",
       "      <th>All</th>\n",
       "    </tr>\n",
       "    <tr>\n",
       "      <th>True</th>\n",
       "      <th></th>\n",
       "      <th></th>\n",
       "      <th></th>\n",
       "    </tr>\n",
       "  </thead>\n",
       "  <tbody>\n",
       "    <tr>\n",
       "      <th>0</th>\n",
       "      <td>214163</td>\n",
       "      <td>22</td>\n",
       "      <td>214185</td>\n",
       "    </tr>\n",
       "    <tr>\n",
       "      <th>1</th>\n",
       "      <td>4472</td>\n",
       "      <td>12</td>\n",
       "      <td>4484</td>\n",
       "    </tr>\n",
       "    <tr>\n",
       "      <th>All</th>\n",
       "      <td>218635</td>\n",
       "      <td>34</td>\n",
       "      <td>218669</td>\n",
       "    </tr>\n",
       "  </tbody>\n",
       "</table>\n",
       "</div>"
      ],
      "text/plain": [
       "Predicted       0   1     All\n",
       "True                         \n",
       "0          214163  22  214185\n",
       "1            4472  12    4484\n",
       "All        218635  34  218669"
      ]
     },
     "execution_count": 19,
     "metadata": {},
     "output_type": "execute_result"
    }
   ],
   "source": [
    "pd.crosstab(y_test, y_pred, rownames=['True'], colnames=['Predicted'], margins=True)"
   ]
  },
  {
   "cell_type": "code",
   "execution_count": 20,
   "metadata": {},
   "outputs": [],
   "source": [
    "results_df=pd.DataFrame({\"true\":y_test, \"predicted\":y_pred})"
   ]
  },
  {
   "cell_type": "code",
   "execution_count": 21,
   "metadata": {},
   "outputs": [
    {
     "data": {
      "text/html": [
       "<div>\n",
       "<style scoped>\n",
       "    .dataframe tbody tr th:only-of-type {\n",
       "        vertical-align: middle;\n",
       "    }\n",
       "\n",
       "    .dataframe tbody tr th {\n",
       "        vertical-align: top;\n",
       "    }\n",
       "\n",
       "    .dataframe thead th {\n",
       "        text-align: right;\n",
       "    }\n",
       "</style>\n",
       "<table border=\"1\" class=\"dataframe\">\n",
       "  <thead>\n",
       "    <tr style=\"text-align: right;\">\n",
       "      <th></th>\n",
       "      <th>true</th>\n",
       "      <th>predicted</th>\n",
       "    </tr>\n",
       "  </thead>\n",
       "  <tbody>\n",
       "    <tr>\n",
       "      <th>3100</th>\n",
       "      <td>1</td>\n",
       "      <td>1</td>\n",
       "    </tr>\n",
       "    <tr>\n",
       "      <th>9616</th>\n",
       "      <td>1</td>\n",
       "      <td>1</td>\n",
       "    </tr>\n",
       "    <tr>\n",
       "      <th>16370</th>\n",
       "      <td>1</td>\n",
       "      <td>1</td>\n",
       "    </tr>\n",
       "    <tr>\n",
       "      <th>27830</th>\n",
       "      <td>1</td>\n",
       "      <td>1</td>\n",
       "    </tr>\n",
       "    <tr>\n",
       "      <th>34252</th>\n",
       "      <td>1</td>\n",
       "      <td>1</td>\n",
       "    </tr>\n",
       "    <tr>\n",
       "      <th>71134</th>\n",
       "      <td>1</td>\n",
       "      <td>1</td>\n",
       "    </tr>\n",
       "    <tr>\n",
       "      <th>76488</th>\n",
       "      <td>1</td>\n",
       "      <td>1</td>\n",
       "    </tr>\n",
       "    <tr>\n",
       "      <th>84251</th>\n",
       "      <td>1</td>\n",
       "      <td>1</td>\n",
       "    </tr>\n",
       "    <tr>\n",
       "      <th>100279</th>\n",
       "      <td>1</td>\n",
       "      <td>1</td>\n",
       "    </tr>\n",
       "    <tr>\n",
       "      <th>107841</th>\n",
       "      <td>1</td>\n",
       "      <td>1</td>\n",
       "    </tr>\n",
       "    <tr>\n",
       "      <th>169121</th>\n",
       "      <td>1</td>\n",
       "      <td>1</td>\n",
       "    </tr>\n",
       "    <tr>\n",
       "      <th>183065</th>\n",
       "      <td>1</td>\n",
       "      <td>1</td>\n",
       "    </tr>\n",
       "  </tbody>\n",
       "</table>\n",
       "</div>"
      ],
      "text/plain": [
       "        true  predicted\n",
       "3100       1          1\n",
       "9616       1          1\n",
       "16370      1          1\n",
       "27830      1          1\n",
       "34252      1          1\n",
       "71134      1          1\n",
       "76488      1          1\n",
       "84251      1          1\n",
       "100279     1          1\n",
       "107841     1          1\n",
       "169121     1          1\n",
       "183065     1          1"
      ]
     },
     "execution_count": 21,
     "metadata": {},
     "output_type": "execute_result"
    }
   ],
   "source": [
    "results_df[(results_df.true==1)&(results_df.predicted==1)]"
   ]
  },
  {
   "cell_type": "code",
   "execution_count": 23,
   "metadata": {},
   "outputs": [
    {
     "data": {
      "text/plain": [
       "array([1], dtype=int64)"
      ]
     },
     "execution_count": 23,
     "metadata": {},
     "output_type": "execute_result"
    }
   ],
   "source": [
    "lr.predict(X_test.iloc[[3100]])"
   ]
  },
  {
   "cell_type": "code",
   "execution_count": 33,
   "metadata": {},
   "outputs": [
    {
     "data": {
      "text/plain": [
       "'[{\"TransactionID\":3242147,\"TransactionDT\":6111303,\"TransactionAmt\":700.0,\"card1\":17480,\"card2\":528.0,\"card3\":150.0,\"card5\":226.0,\"addr1\":191.0,\"addr2\":87.0,\"C1\":1.0,\"C2\":3.0,\"C3\":0.0,\"C4\":0.0,\"C5\":0.0,\"C6\":6.0,\"C7\":0.0,\"C8\":0.0,\"C9\":1.0,\"C10\":0.0,\"C11\":2.0,\"C12\":0.0,\"C13\":6.0,\"C14\":1.0,\"D1\":15.0,\"D10\":12.0,\"V12\":1.0,\"V13\":1.0,\"V14\":1.0,\"V15\":0.0,\"V16\":0.0,\"V17\":0.0,\"V18\":0.0,\"V19\":0.0,\"V20\":4.0,\"V21\":0.0,\"V22\":0.0,\"V23\":1.0,\"V24\":1.0,\"V25\":1.0,\"V26\":2.0,\"V27\":0.0,\"V28\":0.0,\"V29\":0.0,\"V30\":0.0,\"V31\":0.0,\"V32\":0.0,\"V33\":0.0,\"V34\":0.0,\"V53\":1.0,\"V54\":1.0,\"V55\":1.0,\"V56\":3.0,\"V57\":0.0,\"V58\":0.0,\"V59\":0.0,\"V60\":0.0,\"V61\":3.0,\"V62\":3.0,\"V63\":0.0,\"V64\":0.0,\"V65\":1.0,\"V66\":1.0,\"V67\":2.0,\"V68\":0.0,\"V69\":0.0,\"V70\":0.0,\"V71\":0.0,\"V72\":0.0,\"V73\":0.0,\"V74\":0.0,\"V95\":0.0,\"V96\":12.0,\"V97\":8.0,\"V98\":0.0,\"V99\":2.0,\"V100\":2.0,\"V101\":0.0,\"V102\":9.0,\"V103\":5.0,\"V104\":0.0,\"V105\":1.0,\"V106\":1.0,\"V107\":1.0,\"V108\":1.0,\"V109\":1.0,\"V110\":1.0,\"V111\":1.0,\"V112\":1.0,\"V113\":1.0,\"V114\":1.0,\"V115\":1.0,\"V116\":1.0,\"V117\":1.0,\"V118\":1.0,\"V119\":1.0,\"V120\":1.0,\"V121\":1.0,\"V122\":1.0,\"V123\":1.0,\"V124\":1.0,\"V125\":1.0,\"V126\":0.0,\"V127\":7239.990234375,\"V128\":4802.990234375,\"V129\":0.0,\"V130\":863.4899902344,\"V131\":863.4899902344,\"V132\":0.0,\"V133\":5744.5,\"V134\":3307.5,\"V135\":0.0,\"V136\":632.0,\"V137\":632.0,\"V279\":0.0,\"V280\":18.0,\"V281\":5.0,\"V282\":6.0,\"V283\":14.0,\"V284\":0.0,\"V285\":6.0,\"V286\":0.0,\"V287\":4.0,\"V288\":1.0,\"V289\":2.0,\"V290\":1.0,\"V291\":7.0,\"V292\":4.0,\"V293\":0.0,\"V294\":25.0,\"V295\":13.0,\"V296\":1.0,\"V297\":0.0,\"V298\":1.0,\"V299\":1.0,\"V300\":0.0,\"V301\":0.0,\"V302\":0.0,\"V303\":0.0,\"V304\":0.0,\"V305\":1.0,\"V306\":0.0,\"V307\":19875.990234375,\"V308\":11595.990234375,\"V309\":0.0,\"V310\":2811.9899902344,\"V311\":0.0,\"V312\":1730.9899902344,\"V313\":527.0,\"V314\":2811.9899902344,\"V315\":1081.0,\"V316\":0.0,\"V317\":16432.0,\"V318\":9233.0,\"V319\":0.0,\"V320\":632.0,\"V321\":632.0,\"charge card\":0,\"credit\":1,\"debit\":0,\"debit or credit\":0}]'"
      ]
     },
     "execution_count": 33,
     "metadata": {},
     "output_type": "execute_result"
    }
   ],
   "source": [
    "X_test.iloc[[107841]].to_json(orient='records')"
   ]
  },
  {
   "cell_type": "code",
   "execution_count": 25,
   "metadata": {},
   "outputs": [],
   "source": [
    "import pickle"
   ]
  },
  {
   "cell_type": "code",
   "execution_count": 27,
   "metadata": {},
   "outputs": [
    {
     "name": "stderr",
     "output_type": "stream",
     "text": [
      "C:\\Users\\berna\\Anaconda3\\envs\\py3\\lib\\site-packages\\sklearn\\externals\\joblib\\__init__.py:15: DeprecationWarning: sklearn.externals.joblib is deprecated in 0.21 and will be removed in 0.23. Please import this functionality directly from joblib, which can be installed with: pip install joblib. If this warning is raised when loading pickled models, you may need to re-serialize those models with scikit-learn 0.21+.\n",
      "  warnings.warn(msg, category=DeprecationWarning)\n"
     ]
    }
   ],
   "source": [
    "from sklearn.externals import joblib "
   ]
  },
  {
   "cell_type": "code",
   "execution_count": 28,
   "metadata": {},
   "outputs": [
    {
     "data": {
      "text/plain": [
       "array([0, 0, 0, ..., 0, 0, 0], dtype=int64)"
      ]
     },
     "execution_count": 28,
     "metadata": {},
     "output_type": "execute_result"
    }
   ],
   "source": [
    "joblib.dump(lr, 'model.pkl') \n",
    "knn_from_joblib = joblib.load('model.pkl')  \n",
    "knn_from_joblib.predict(X_test) \n"
   ]
  },
  {
   "cell_type": "code",
   "execution_count": 31,
   "metadata": {},
   "outputs": [
    {
     "data": {
      "text/plain": [
       "0.019081194901715486"
      ]
     },
     "execution_count": 31,
     "metadata": {},
     "output_type": "execute_result"
    }
   ],
   "source": [
    "knn_from_joblib.predict_proba(X_test)[0][1]\n"
   ]
  },
  {
   "cell_type": "code",
   "execution_count": null,
   "metadata": {},
   "outputs": [],
   "source": []
  }
 ],
 "metadata": {
  "kernelspec": {
   "display_name": "Python 3",
   "language": "python",
   "name": "python3"
  },
  "language_info": {
   "codemirror_mode": {
    "name": "ipython",
    "version": 3
   },
   "file_extension": ".py",
   "mimetype": "text/x-python",
   "name": "python",
   "nbconvert_exporter": "python",
   "pygments_lexer": "ipython3",
   "version": "3.7.4"
  }
 },
 "nbformat": 4,
 "nbformat_minor": 4
}
